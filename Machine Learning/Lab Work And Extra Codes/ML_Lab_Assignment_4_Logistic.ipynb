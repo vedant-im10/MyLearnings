{
  "cells": [
    {
      "cell_type": "markdown",
      "source": [
        "# Assignment 4: Implement of Logistic Regression Algorithm"
      ],
      "metadata": {
        "id": "En-ElcVs4snP"
      }
    },
    {
      "cell_type": "markdown",
      "metadata": {
        "id": "MCPVvjqbnj9H"
      },
      "source": [
        "**Import Libraries**"
      ]
    },
    {
      "cell_type": "code",
      "execution_count": null,
      "metadata": {
        "id": "4gjDBklCnJB2"
      },
      "outputs": [],
      "source": [
        "from sklearn.model_selection import train_test_split\n",
        "from sklearn.datasets import *\n",
        "from sklearn.linear_model import LogisticRegression"
      ]
    },
    {
      "cell_type": "code",
      "execution_count": null,
      "metadata": {
        "id": "c7AH80DIVSF2"
      },
      "outputs": [],
      "source": [
        "import numpy as np\n",
        "import pandas as pd\n",
        "import matplotlib.pyplot as plt\n",
        "import seaborn as sns\n",
        "from sklearn.preprocessing import StandardScaler\n",
        "sns.set()"
      ]
    },
    {
      "cell_type": "markdown",
      "metadata": {
        "id": "xV_D3GvSnqE2"
      },
      "source": [
        "**Load the data**"
      ]
    },
    {
      "cell_type": "code",
      "execution_count": null,
      "metadata": {
        "id": "RIBmJYuXnsa2"
      },
      "outputs": [],
      "source": [
        "data = load_breast_cancer() #refer: http://scikit-learn.org/stable/modules/generated/sklearn.datasets.load_breast_cancer.html#sklearn.datasets.load_breast_cancer\n",
        "\n",
        "# data with features\n",
        "X = data.data\n",
        "\n",
        "# data class labels\n",
        "y = data.target"
      ]
    },
    {
      "cell_type": "markdown",
      "metadata": {
        "id": "ZmIAUYfusNJK"
      },
      "source": [
        "**Print the number of data points, number of features and number of classes in the given data set.**"
      ]
    },
    {
      "cell_type": "code",
      "execution_count": null,
      "metadata": {
        "colab": {
          "base_uri": "https://localhost:8080/"
        },
        "id": "Ib_fr2lDsaQa",
        "outputId": "01720fc9-ded9-4160-d3df-154f58608fea"
      },
      "outputs": [
        {
          "output_type": "stream",
          "name": "stdout",
          "text": [
            "Number of data points = 569\n",
            "Number of features = 30\n",
            "Number of classes = 2\n"
          ]
        }
      ],
      "source": [
        "print(f'Number of data points = {data.data.shape[0]}')\n",
        "print(f'Number of features = {len(data.feature_names)}')\n",
        "print(f'Number of classes = {len(data.target_names)}')"
      ]
    },
    {
      "cell_type": "markdown",
      "metadata": {
        "id": "0FSg49Uxsnw6"
      },
      "source": [
        "**Splitting data into Train and test sets with Stratified Sampling using train_test_split()**"
      ]
    },
    {
      "cell_type": "code",
      "execution_count": null,
      "metadata": {
        "id": "XyGtQkgGsqQa"
      },
      "outputs": [],
      "source": [
        "X_train, X_test, y_train, y_test = train_test_split(X, y, stratify=y, test_size=0.2, random_state=135)"
      ]
    },
    {
      "cell_type": "code",
      "execution_count": null,
      "metadata": {
        "colab": {
          "base_uri": "https://localhost:8080/"
        },
        "id": "uMhaqUAzYv4T",
        "outputId": "c5d9ff48-decd-4478-a313-dde8ebe7e484"
      },
      "outputs": [
        {
          "output_type": "stream",
          "name": "stdout",
          "text": [
            "Shape of X is 569 * 30\n",
            "Shape of X_train is 455 * 30\n",
            "Shape of X_test is 114 * 30\n"
          ]
        }
      ],
      "source": [
        "def getShape(name, dataset):\n",
        "  print(f'Shape of {name} is {dataset.shape[0]} * {dataset.shape[1]}')\n",
        "\n",
        "getShape('X', X)\n",
        "getShape('X_train', X_train)\n",
        "getShape('X_test', X_test)"
      ]
    },
    {
      "cell_type": "markdown",
      "metadata": {
        "id": "qZEUDkrmsr1S"
      },
      "source": [
        "**Data Preprocessing using column standardisation. Use sklearn.preprocessing.StandardScaler().**"
      ]
    },
    {
      "cell_type": "code",
      "execution_count": null,
      "metadata": {
        "id": "W3IqnsLtsxdJ"
      },
      "outputs": [],
      "source": [
        "sc = StandardScaler()\n",
        "X_train = sc.fit_transform(X_train)\n",
        "X_test = sc.transform(X_test)"
      ]
    },
    {
      "cell_type": "markdown",
      "metadata": {
        "id": "0hI7Xizrsx9y"
      },
      "source": [
        "## **Implement Logistic Regression Using Gradient Descent: without using sklearn.**"
      ]
    },
    {
      "cell_type": "markdown",
      "metadata": {
        "id": "ynujCs0lwy4n"
      },
      "source": [
        "\n",
        "In this algorithm, $n$ is the total number of datapoints in dataset.\n",
        "$\\alpha$ is the learning rate to be used in gradient descent. For this work, just fix $\\alpha = 0.001$.\n",
        "\n",
        "The predicted value for data point $x$ is $y_{pred} = σ(w^{T}x + b)$, where $σ$ is a sigmoid function.\n",
        "\n",
        "**ALGORITHM:**\n",
        "\n",
        "<br>\n",
        "\n",
        "* Initialize the weight_vector and intercept term to zeros (Write your code in <font color='blue'>def initialize_weights()</font>)\n",
        "\n",
        "* Create a loss function (Write your code in <font color='blue'>def logloss()</font>)\n",
        "\n",
        " $log loss = -1*\\frac{1}{n}\\Sigma_{for each y_{true},y_{pred}}(y_{true}log(y_{pred})+(1-y_{true})log(1-y_{pred}))$\n",
        "- for each epoch:\n",
        "\n",
        "    - for each data point say $x_{i}$ in train:\n",
        "\n",
        "        - calculate the gradient of loss function w.r.t each weight in weight vector (write your code in <font color='blue'>def gradient_dw()</font>)\n",
        "\n",
        "        $dw^{(t)} = \\frac{1}{n}(x_i(σ((w^{(t)})^{T} x_i+b^{t}) - y_i))$ <br>\n",
        "\n",
        "        - Calculate the gradient of the intercept (write your code in <font color='blue'> def gradient_db()</font>)\n",
        "\n",
        "           $ db^{(t)} = \\frac{1}{n}(σ((w^{(t)})^{T} x_i+b^{t}) - y_i))$\n",
        "\n",
        "        - Update weights and intercept using gradient descent  <br>\n",
        "        $w^{(t+1)}← w^{(t)} - α(dw^{(t)}) $<br>\n",
        "\n",
        "        $b^{(t+1)}←b^{(t)} - α(db^{(t)}) $\n",
        "    - predict the output for all test data points with updated weights. (write your function in def prediction())\n",
        "    - calculate the log loss for train and test data points separately with the updated weights. Store these losses in the lists, train_loss and test_loss.\n",
        "    - And if you wish, you can compare the previous train loss and the current train loss, if it is not updating, then\n",
        "        you can stop the training\n",
        "    -return the updated weights, training and test loss lists.\n"
      ]
    },
    {
      "cell_type": "code",
      "execution_count": null,
      "metadata": {
        "id": "85VJ1n5Q0ig6"
      },
      "outputs": [],
      "source": [
        "def logloss(y_true, y_pred):\n",
        "    # you have been given two arrays y_true and y_pred and you have to calculate the logloss\n",
        "    inner_summation = 0\n",
        "\n",
        "    for i in range(len(y_true)):\n",
        "      inner_summation += y_true[i] * np.log(y_pred[i]) + (1 - y_true[i]) * np.log(1 - y_pred[i])\n",
        "\n",
        "    logloss = (-1) * ( 1 / len(y_true) ) * inner_summation\n",
        "\n",
        "    return logloss"
      ]
    },
    {
      "cell_type": "code",
      "execution_count": null,
      "metadata": {
        "id": "18XrII86wxbn"
      },
      "outputs": [],
      "source": [
        "def initialize_weights(inVec):\n",
        "    #initialize the weights as 1d array consisting of all zeros similar to the dimensions of input vector.\n",
        "    weights = np.zeros_like(inVec)\n",
        "\n",
        "    #initialize bias to zero\n",
        "    bias = 0\n",
        "\n",
        "    return weights, bias"
      ]
    },
    {
      "cell_type": "code",
      "execution_count": null,
      "metadata": {
        "id": "LvxGkvA-0bW6"
      },
      "outputs": [],
      "source": [
        "def sigmoid(z):\n",
        "    ''' In this function, we will return sigmoid of z'''\n",
        "    # compute sigmoid(z) and return\n",
        "    return 1 / (1 + np.exp(-z))"
      ]
    },
    {
      "cell_type": "code",
      "execution_count": null,
      "metadata": {
        "id": "j1sFxfpm0yhA"
      },
      "outputs": [],
      "source": [
        "# w should be a vector of size as input data point. Size of w and dw be same.\n",
        "def gradient_dw(x, y, w, b, n):\n",
        "  # In this function, we will compute the gradient w.r.to w\n",
        "  dw = (1/n) * x * ( sigmoid(np.dot(w, x) + b) - y)\n",
        "\n",
        "  return dw"
      ]
    },
    {
      "cell_type": "code",
      "execution_count": null,
      "metadata": {
        "id": "CWxvXtMI1KMr"
      },
      "outputs": [],
      "source": [
        "#b should be a scalar value\n",
        "def gradient_db(x, y, w, b, n):\n",
        "  # In this function, we will compute gradient w.r.to b\n",
        "  db = (1/n) * ( sigmoid(np.dot(w, x) + b) - y )\n",
        "\n",
        "  return db"
      ]
    },
    {
      "cell_type": "markdown",
      "metadata": {
        "id": "xKttny689cmV"
      },
      "source": [
        "**For the prediction, if activation_value > 0.5 then assign label = 1 else label = 0**"
      ]
    },
    {
      "cell_type": "code",
      "execution_count": null,
      "metadata": {
        "id": "aGLAVthp5Ug_"
      },
      "outputs": [],
      "source": [
        "def getPredictions(Y_actual, Y_predict):\n",
        "  correct_preds = 0\n",
        "\n",
        "  for i in range(len(Y_actual)):\n",
        "    if Y_predict[i] > 0.5:\n",
        "      Y_predict[i] = 1\n",
        "    else:\n",
        "      Y_predict[i] = 0\n",
        "\n",
        "    if Y_actual[i] == Y_predict[i]:\n",
        "      correct_preds += 1\n",
        "\n",
        "  return correct_preds, round((correct_preds/len(Y_actual)) * 100, 2)"
      ]
    },
    {
      "cell_type": "code",
      "execution_count": null,
      "metadata": {
        "id": "IKMC4UpxeT9c"
      },
      "outputs": [],
      "source": [
        "def predict(w, b, X):\n",
        "  n = len(X)\n",
        "  z = np.dot(w, X) + b\n",
        "\n",
        "  return sigmoid(z)"
      ]
    },
    {
      "cell_type": "code",
      "execution_count": null,
      "metadata": {
        "id": "yu1wK8Xq1mTI"
      },
      "outputs": [],
      "source": [
        "def logistic_regression(X_train, y_train, X_test, y_test, epochs, alpha):\n",
        "  # implement your algorithm\n",
        "  weights, bias = initialize_weights(X_train[0])\n",
        "\n",
        "  train_loss, test_loss = [], []\n",
        "  train_correct_preds, test_correct_preds = [], []\n",
        "  train_accuracies, test_accuracies = [], []\n",
        "  epoch_list = []\n",
        "  n = len(X_train)\n",
        "\n",
        "  prev_train_loss = -1\n",
        "\n",
        "  for epoch in range(epochs):\n",
        "    for batch in range(n):\n",
        "      dw = gradient_dw(X_train[batch], y_train[batch], weights, bias, n)\n",
        "      db = gradient_db(X_train[batch], y_train[batch], weights, bias, n)\n",
        "\n",
        "      weights -= alpha * dw\n",
        "      bias -= alpha * db\n",
        "\n",
        "    train_predict, test_predict = [], []\n",
        "\n",
        "    for batch in range(len(X_train)):\n",
        "      train_predict.append( predict(weights, bias, X_train[batch]) )\n",
        "\n",
        "    for batch in range(len(X_test)):\n",
        "      test_predict.append( predict(weights, bias, X_test[batch]) )\n",
        "\n",
        "    curr_train_loss = logloss(y_train, train_predict)\n",
        "\n",
        "    if curr_train_loss == prev_train_loss:\n",
        "      break\n",
        "    else:\n",
        "      epoch_list.append(epoch+1)\n",
        "\n",
        "      prev_train_loss = curr_train_loss\n",
        "      train_loss.append( curr_train_loss )\n",
        "      test_loss.append( logloss(y_test, test_predict) )\n",
        "\n",
        "      train_correct_pred, train_accuracy = getPredictions(y_train, train_predict)\n",
        "      train_correct_preds.append(f'{train_correct_pred}/{len(X_train)}')\n",
        "      train_accuracies.append(train_accuracy)\n",
        "\n",
        "      test_correct_pred, test_accuracy = getPredictions(y_test, test_predict)\n",
        "      test_correct_preds.append(f'{test_correct_pred}/{len(X_test)}')\n",
        "      test_accuracies.append(test_accuracy)\n",
        "\n",
        "  results = pd.DataFrame({ \"Epochs\": epoch_list,\n",
        "                           \"Train Loss\": train_loss,\n",
        "                           \"Test Loss\": test_loss,\n",
        "                           \"Train Correct Predicts\": train_correct_preds,\n",
        "                           \"Test Correct Predicts\": test_correct_preds,\n",
        "                           \"Train Accuracy\": train_accuracies,\n",
        "                           \"Test Accuracy\": test_accuracies })\n",
        "\n",
        "  return results, weights, bias"
      ]
    },
    {
      "cell_type": "markdown",
      "metadata": {
        "id": "WYe3WqKO5kW1"
      },
      "source": [
        "**Plot your train and test loss vs epochs. Plot epoch number on X-axis and loss on Y-axis and make sure that the curve is converging**"
      ]
    },
    {
      "cell_type": "code",
      "execution_count": null,
      "metadata": {
        "id": "fdvYIvpMtRra"
      },
      "outputs": [],
      "source": [
        "epochs = 1000\n",
        "learning_rate = 0.001\n",
        "\n",
        "main_results, weights, bias = logistic_regression(X_train, y_train, X_test, y_test, epochs, learning_rate)"
      ]
    },
    {
      "cell_type": "code",
      "source": [
        "display(main_results)"
      ],
      "metadata": {
        "colab": {
          "base_uri": "https://localhost:8080/",
          "height": 656
        },
        "id": "uuxu1LoY2oD4",
        "outputId": "8fec9567-5e03-437c-f33b-9c5f1ece53ab"
      },
      "execution_count": null,
      "outputs": [
        {
          "output_type": "display_data",
          "data": {
            "text/plain": [
              "     Epochs  Train Loss  Test Loss Train Correct Predicts  \\\n",
              "0         1    0.691176   0.690643                424/455   \n",
              "1         2    0.689216   0.688158                424/455   \n",
              "2         3    0.687269   0.685691                424/455   \n",
              "3         4    0.685334   0.683242                424/455   \n",
              "4         5    0.683412   0.680811                424/455   \n",
              "..      ...         ...        ...                    ...   \n",
              "995     996    0.253976   0.205812                433/455   \n",
              "996     997    0.253873   0.205711                433/455   \n",
              "997     998    0.253770   0.205609                433/455   \n",
              "998     999    0.253667   0.205508                433/455   \n",
              "999    1000    0.253564   0.205406                433/455   \n",
              "\n",
              "    Test Correct Predicts  Train Accuracy  Test Accuracy  \n",
              "0                 111/114           93.19          97.37  \n",
              "1                 111/114           93.19          97.37  \n",
              "2                 111/114           93.19          97.37  \n",
              "3                 111/114           93.19          97.37  \n",
              "4                 111/114           93.19          97.37  \n",
              "..                    ...             ...            ...  \n",
              "995               112/114           95.16          98.25  \n",
              "996               112/114           95.16          98.25  \n",
              "997               112/114           95.16          98.25  \n",
              "998               112/114           95.16          98.25  \n",
              "999               112/114           95.16          98.25  \n",
              "\n",
              "[1000 rows x 7 columns]"
            ],
            "text/html": [
              "\n",
              "  <div id=\"df-1babbe6b-5a7c-4d0a-99ca-fc28aa539f74\">\n",
              "    <div class=\"colab-df-container\">\n",
              "      <div>\n",
              "<style scoped>\n",
              "    .dataframe tbody tr th:only-of-type {\n",
              "        vertical-align: middle;\n",
              "    }\n",
              "\n",
              "    .dataframe tbody tr th {\n",
              "        vertical-align: top;\n",
              "    }\n",
              "\n",
              "    .dataframe thead th {\n",
              "        text-align: right;\n",
              "    }\n",
              "</style>\n",
              "<table border=\"1\" class=\"dataframe\">\n",
              "  <thead>\n",
              "    <tr style=\"text-align: right;\">\n",
              "      <th></th>\n",
              "      <th>Epochs</th>\n",
              "      <th>Train Loss</th>\n",
              "      <th>Test Loss</th>\n",
              "      <th>Train Correct Predicts</th>\n",
              "      <th>Test Correct Predicts</th>\n",
              "      <th>Train Accuracy</th>\n",
              "      <th>Test Accuracy</th>\n",
              "    </tr>\n",
              "  </thead>\n",
              "  <tbody>\n",
              "    <tr>\n",
              "      <th>0</th>\n",
              "      <td>1</td>\n",
              "      <td>0.691176</td>\n",
              "      <td>0.690643</td>\n",
              "      <td>424/455</td>\n",
              "      <td>111/114</td>\n",
              "      <td>93.19</td>\n",
              "      <td>97.37</td>\n",
              "    </tr>\n",
              "    <tr>\n",
              "      <th>1</th>\n",
              "      <td>2</td>\n",
              "      <td>0.689216</td>\n",
              "      <td>0.688158</td>\n",
              "      <td>424/455</td>\n",
              "      <td>111/114</td>\n",
              "      <td>93.19</td>\n",
              "      <td>97.37</td>\n",
              "    </tr>\n",
              "    <tr>\n",
              "      <th>2</th>\n",
              "      <td>3</td>\n",
              "      <td>0.687269</td>\n",
              "      <td>0.685691</td>\n",
              "      <td>424/455</td>\n",
              "      <td>111/114</td>\n",
              "      <td>93.19</td>\n",
              "      <td>97.37</td>\n",
              "    </tr>\n",
              "    <tr>\n",
              "      <th>3</th>\n",
              "      <td>4</td>\n",
              "      <td>0.685334</td>\n",
              "      <td>0.683242</td>\n",
              "      <td>424/455</td>\n",
              "      <td>111/114</td>\n",
              "      <td>93.19</td>\n",
              "      <td>97.37</td>\n",
              "    </tr>\n",
              "    <tr>\n",
              "      <th>4</th>\n",
              "      <td>5</td>\n",
              "      <td>0.683412</td>\n",
              "      <td>0.680811</td>\n",
              "      <td>424/455</td>\n",
              "      <td>111/114</td>\n",
              "      <td>93.19</td>\n",
              "      <td>97.37</td>\n",
              "    </tr>\n",
              "    <tr>\n",
              "      <th>...</th>\n",
              "      <td>...</td>\n",
              "      <td>...</td>\n",
              "      <td>...</td>\n",
              "      <td>...</td>\n",
              "      <td>...</td>\n",
              "      <td>...</td>\n",
              "      <td>...</td>\n",
              "    </tr>\n",
              "    <tr>\n",
              "      <th>995</th>\n",
              "      <td>996</td>\n",
              "      <td>0.253976</td>\n",
              "      <td>0.205812</td>\n",
              "      <td>433/455</td>\n",
              "      <td>112/114</td>\n",
              "      <td>95.16</td>\n",
              "      <td>98.25</td>\n",
              "    </tr>\n",
              "    <tr>\n",
              "      <th>996</th>\n",
              "      <td>997</td>\n",
              "      <td>0.253873</td>\n",
              "      <td>0.205711</td>\n",
              "      <td>433/455</td>\n",
              "      <td>112/114</td>\n",
              "      <td>95.16</td>\n",
              "      <td>98.25</td>\n",
              "    </tr>\n",
              "    <tr>\n",
              "      <th>997</th>\n",
              "      <td>998</td>\n",
              "      <td>0.253770</td>\n",
              "      <td>0.205609</td>\n",
              "      <td>433/455</td>\n",
              "      <td>112/114</td>\n",
              "      <td>95.16</td>\n",
              "      <td>98.25</td>\n",
              "    </tr>\n",
              "    <tr>\n",
              "      <th>998</th>\n",
              "      <td>999</td>\n",
              "      <td>0.253667</td>\n",
              "      <td>0.205508</td>\n",
              "      <td>433/455</td>\n",
              "      <td>112/114</td>\n",
              "      <td>95.16</td>\n",
              "      <td>98.25</td>\n",
              "    </tr>\n",
              "    <tr>\n",
              "      <th>999</th>\n",
              "      <td>1000</td>\n",
              "      <td>0.253564</td>\n",
              "      <td>0.205406</td>\n",
              "      <td>433/455</td>\n",
              "      <td>112/114</td>\n",
              "      <td>95.16</td>\n",
              "      <td>98.25</td>\n",
              "    </tr>\n",
              "  </tbody>\n",
              "</table>\n",
              "<p>1000 rows × 7 columns</p>\n",
              "</div>\n",
              "      <button class=\"colab-df-convert\" onclick=\"convertToInteractive('df-1babbe6b-5a7c-4d0a-99ca-fc28aa539f74')\"\n",
              "              title=\"Convert this dataframe to an interactive table.\"\n",
              "              style=\"display:none;\">\n",
              "        \n",
              "  <svg xmlns=\"http://www.w3.org/2000/svg\" height=\"24px\"viewBox=\"0 0 24 24\"\n",
              "       width=\"24px\">\n",
              "    <path d=\"M0 0h24v24H0V0z\" fill=\"none\"/>\n",
              "    <path d=\"M18.56 5.44l.94 2.06.94-2.06 2.06-.94-2.06-.94-.94-2.06-.94 2.06-2.06.94zm-11 1L8.5 8.5l.94-2.06 2.06-.94-2.06-.94L8.5 2.5l-.94 2.06-2.06.94zm10 10l.94 2.06.94-2.06 2.06-.94-2.06-.94-.94-2.06-.94 2.06-2.06.94z\"/><path d=\"M17.41 7.96l-1.37-1.37c-.4-.4-.92-.59-1.43-.59-.52 0-1.04.2-1.43.59L10.3 9.45l-7.72 7.72c-.78.78-.78 2.05 0 2.83L4 21.41c.39.39.9.59 1.41.59.51 0 1.02-.2 1.41-.59l7.78-7.78 2.81-2.81c.8-.78.8-2.07 0-2.86zM5.41 20L4 18.59l7.72-7.72 1.47 1.35L5.41 20z\"/>\n",
              "  </svg>\n",
              "      </button>\n",
              "      \n",
              "  <style>\n",
              "    .colab-df-container {\n",
              "      display:flex;\n",
              "      flex-wrap:wrap;\n",
              "      gap: 12px;\n",
              "    }\n",
              "\n",
              "    .colab-df-convert {\n",
              "      background-color: #E8F0FE;\n",
              "      border: none;\n",
              "      border-radius: 50%;\n",
              "      cursor: pointer;\n",
              "      display: none;\n",
              "      fill: #1967D2;\n",
              "      height: 32px;\n",
              "      padding: 0 0 0 0;\n",
              "      width: 32px;\n",
              "    }\n",
              "\n",
              "    .colab-df-convert:hover {\n",
              "      background-color: #E2EBFA;\n",
              "      box-shadow: 0px 1px 2px rgba(60, 64, 67, 0.3), 0px 1px 3px 1px rgba(60, 64, 67, 0.15);\n",
              "      fill: #174EA6;\n",
              "    }\n",
              "\n",
              "    [theme=dark] .colab-df-convert {\n",
              "      background-color: #3B4455;\n",
              "      fill: #D2E3FC;\n",
              "    }\n",
              "\n",
              "    [theme=dark] .colab-df-convert:hover {\n",
              "      background-color: #434B5C;\n",
              "      box-shadow: 0px 1px 3px 1px rgba(0, 0, 0, 0.15);\n",
              "      filter: drop-shadow(0px 1px 2px rgba(0, 0, 0, 0.3));\n",
              "      fill: #FFFFFF;\n",
              "    }\n",
              "  </style>\n",
              "\n",
              "      <script>\n",
              "        const buttonEl =\n",
              "          document.querySelector('#df-1babbe6b-5a7c-4d0a-99ca-fc28aa539f74 button.colab-df-convert');\n",
              "        buttonEl.style.display =\n",
              "          google.colab.kernel.accessAllowed ? 'block' : 'none';\n",
              "\n",
              "        async function convertToInteractive(key) {\n",
              "          const element = document.querySelector('#df-1babbe6b-5a7c-4d0a-99ca-fc28aa539f74');\n",
              "          const dataTable =\n",
              "            await google.colab.kernel.invokeFunction('convertToInteractive',\n",
              "                                                     [key], {});\n",
              "          if (!dataTable) return;\n",
              "\n",
              "          const docLinkHtml = 'Like what you see? Visit the ' +\n",
              "            '<a target=\"_blank\" href=https://colab.research.google.com/notebooks/data_table.ipynb>data table notebook</a>'\n",
              "            + ' to learn more about interactive tables.';\n",
              "          element.innerHTML = '';\n",
              "          dataTable['output_type'] = 'display_data';\n",
              "          await google.colab.output.renderOutput(dataTable, element);\n",
              "          const docLink = document.createElement('div');\n",
              "          docLink.innerHTML = docLinkHtml;\n",
              "          element.appendChild(docLink);\n",
              "        }\n",
              "      </script>\n",
              "    </div>\n",
              "  </div>\n",
              "  "
            ]
          },
          "metadata": {}
        }
      ]
    },
    {
      "cell_type": "code",
      "source": [
        "main_results.plot(x='Epochs', y=['Train Loss', 'Test Loss'], kind=\"line\")\n",
        "plt.ylabel('Loss')\n",
        "plt.title('Epochs vs Loss for Train and Test data')\n",
        "plt.show()"
      ],
      "metadata": {
        "colab": {
          "base_uri": "https://localhost:8080/",
          "height": 301
        },
        "id": "hcZ7rKykoZcH",
        "outputId": "ae21a97c-5381-4486-f645-13c083283876"
      },
      "execution_count": null,
      "outputs": [
        {
          "output_type": "display_data",
          "data": {
            "text/plain": [
              "<Figure size 432x288 with 1 Axes>"
            ],
            "image/png": "[encoded data removed]"
          },
          "metadata": {}
        }
      ]
    },
    {
      "cell_type": "markdown",
      "metadata": {
        "id": "9UEbsJqt7vJs"
      },
      "source": [
        "**Compute the final accuracy on test dataset.**"
      ]
    },
    {
      "cell_type": "code",
      "execution_count": null,
      "metadata": {
        "id": "RhCDgO508XAZ"
      },
      "outputs": [],
      "source": [
        "def getTestAccuracy(weights, bias, X_test, y_test):\n",
        "  n = len(X_test)\n",
        "\n",
        "  y_pred = []\n",
        "\n",
        "  for batch in range(n):\n",
        "    y_pred.append( predict(weights, bias, X_test[batch]) )\n",
        "\n",
        "  correct_preds, accuracy = getPredictions(y_test, y_pred)\n",
        "\n",
        "  return correct_preds, accuracy"
      ]
    },
    {
      "cell_type": "code",
      "source": [
        "correct_preds, accuracy = getTestAccuracy(weights, bias, X_test, y_test)\n",
        "\n",
        "print(f'For Test Dataset:')\n",
        "print(f'    Accuracy = {accuracy} %')\n",
        "print(f'    Correct Predictions = {correct_preds}/{len(X_test)}')"
      ],
      "metadata": {
        "colab": {
          "base_uri": "https://localhost:8080/"
        },
        "id": "JP3fll2BsCxn",
        "outputId": "6b50d2e9-cf43-4285-fabc-12d9c49555b1"
      },
      "execution_count": null,
      "outputs": [
        {
          "output_type": "stream",
          "name": "stdout",
          "text": [
            "For Test Dataset:\n",
            "    Accuracy = 98.25 %\n",
            "    Correct Predictions = 112/114\n"
          ]
        }
      ]
    },
    {
      "cell_type": "markdown",
      "metadata": {
        "id": "qUcuGi8Q-HE7"
      },
      "source": [
        "**BONUS: Train your model with varying values of learning rates say ranging in $[0.1, 0.01, 0.001, 0.0001]$ and plot the performances.**"
      ]
    },
    {
      "cell_type": "code",
      "execution_count": null,
      "metadata": {
        "id": "FCawXEH_8XbZ"
      },
      "outputs": [],
      "source": [
        "learning_rates = [0.1, 0.01, 0.001, 0.0001]"
      ]
    },
    {
      "cell_type": "code",
      "execution_count": null,
      "metadata": {
        "id": "bEGCMsMY-s8a",
        "colab": {
          "base_uri": "https://localhost:8080/",
          "height": 301
        },
        "outputId": "a6212a18-dd6e-43c1-a762-c03173ef1cd5"
      },
      "outputs": [
        {
          "output_type": "display_data",
          "data": {
            "text/plain": [
              "<Figure size 432x288 with 1 Axes>"
            ],
            "image/png": "[encoded data removed]"
          },
          "metadata": {}
        }
      ],
      "source": [
        "for curr_learning_rate in learning_rates:\n",
        "  results, weights, bias = logistic_regression(X_train, y_train, X_test, y_test, epochs, curr_learning_rate)\n",
        "  plt.plot(results['Epochs'].to_numpy(), results['Train Loss'].to_numpy())\n",
        "\n",
        "plt.legend([str(i) for i in learning_rates], loc='upper right')\n",
        "plt.xlabel('Epochs')\n",
        "plt.ylabel('Train Loss')\n",
        "plt.title('Epochs vs Train Loss for different learning rates')\n",
        "plt.show()"
      ]
    },
    {
      "cell_type": "code",
      "source": [
        "for curr_learning_rate in learning_rates:\n",
        "  results, weights, bias = logistic_regression(X_train, y_train, X_test, y_test, epochs, curr_learning_rate)\n",
        "  plt.plot(results['Epochs'].to_numpy(), results['Test Loss'].to_numpy())\n",
        "\n",
        "plt.legend([str(i) for i in learning_rates], loc='upper right')\n",
        "plt.xlabel('Epochs')\n",
        "plt.ylabel('Test Loss')\n",
        "plt.title('Epochs vs Test Loss for different learning rates')\n",
        "plt.show()"
      ],
      "metadata": {
        "colab": {
          "base_uri": "https://localhost:8080/",
          "height": 301
        },
        "id": "HGAEgtAEvmsm",
        "outputId": "d4cdd19d-0ebc-4b8d-b20c-77769a50d16e"
      },
      "execution_count": null,
      "outputs": [
        {
          "output_type": "display_data",
          "data": {
            "text/plain": [
              "<Figure size 432x288 with 1 Axes>"
            ],
            "image/png": "[encoded data removed]"
          },
          "metadata": {}
        }
      ]
    },
    {
      "cell_type": "code",
      "source": [
        "performances = []\n",
        "\n",
        "for curr_learning_rate in learning_rates:\n",
        "  results, weights, bias = logistic_regression(X_train, y_train, X_test, y_test, epochs, curr_learning_rate)\n",
        "  correct_train_preds, train_accuracy = getTestAccuracy(weights, bias, X_train, y_train)\n",
        "  correct_test_preds, test_accuracy = getTestAccuracy(weights, bias, X_test, y_test)\n",
        "\n",
        "  performances.append([curr_learning_rate, f'{correct_train_preds}/{len(X_train)}', f'{correct_test_preds}/{len(X_test)}', train_accuracy, test_accuracy])\n",
        "\n",
        "performances = pd.DataFrame(performances, columns = ['Learning Rate', 'Correct Train Predictions', 'Correct Test Predictions', 'Train Accuracy', 'Test Accuracy'])\n",
        "\n",
        "display(performances)"
      ],
      "metadata": {
        "colab": {
          "base_uri": "https://localhost:8080/",
          "height": 69
        },
        "id": "92PuH-y1t6tl",
        "outputId": "01fcd37a-7ab0-45fb-e1fc-965da51e00b4"
      },
      "execution_count": null,
      "outputs": [
        {
          "output_type": "display_data",
          "data": {
            "text/plain": [
              "   Learning Rate Correct Train Predictions Correct Test Predictions  \\\n",
              "0         0.1000                   449/455                  113/114   \n",
              "1         0.0100                   444/455                  113/114   \n",
              "2         0.0010                   433/455                  112/114   \n",
              "3         0.0001                   427/455                  111/114   \n",
              "\n",
              "   Train Accuracy  Test Accuracy  \n",
              "0           98.68          99.12  \n",
              "1           97.58          99.12  \n",
              "2           95.16          98.25  \n",
              "3           93.85          97.37  "
            ],
            "text/html": [
              "\n",
              "  <div id=\"df-6f36ee88-2834-4427-b0ee-11d1435935dc\">\n",
              "    <div class=\"colab-df-container\">\n",
              "      <div>\n",
              "<style scoped>\n",
              "    .dataframe tbody tr th:only-of-type {\n",
              "        vertical-align: middle;\n",
              "    }\n",
              "\n",
              "    .dataframe tbody tr th {\n",
              "        vertical-align: top;\n",
              "    }\n",
              "\n",
              "    .dataframe thead th {\n",
              "        text-align: right;\n",
              "    }\n",
              "</style>\n",
              "<table border=\"1\" class=\"dataframe\">\n",
              "  <thead>\n",
              "    <tr style=\"text-align: right;\">\n",
              "      <th></th>\n",
              "      <th>Learning Rate</th>\n",
              "      <th>Correct Train Predictions</th>\n",
              "      <th>Correct Test Predictions</th>\n",
              "      <th>Train Accuracy</th>\n",
              "      <th>Test Accuracy</th>\n",
              "    </tr>\n",
              "  </thead>\n",
              "  <tbody>\n",
              "    <tr>\n",
              "      <th>0</th>\n",
              "      <td>0.1000</td>\n",
              "      <td>449/455</td>\n",
              "      <td>113/114</td>\n",
              "      <td>98.68</td>\n",
              "      <td>99.12</td>\n",
              "    </tr>\n",
              "    <tr>\n",
              "      <th>1</th>\n",
              "      <td>0.0100</td>\n",
              "      <td>444/455</td>\n",
              "      <td>113/114</td>\n",
              "      <td>97.58</td>\n",
              "      <td>99.12</td>\n",
              "    </tr>\n",
              "    <tr>\n",
              "      <th>2</th>\n",
              "      <td>0.0010</td>\n",
              "      <td>433/455</td>\n",
              "      <td>112/114</td>\n",
              "      <td>95.16</td>\n",
              "      <td>98.25</td>\n",
              "    </tr>\n",
              "    <tr>\n",
              "      <th>3</th>\n",
              "      <td>0.0001</td>\n",
              "      <td>427/455</td>\n",
              "      <td>111/114</td>\n",
              "      <td>93.85</td>\n",
              "      <td>97.37</td>\n",
              "    </tr>\n",
              "  </tbody>\n",
              "</table>\n",
              "</div>\n",
              "      <button class=\"colab-df-convert\" onclick=\"convertToInteractive('df-6f36ee88-2834-4427-b0ee-11d1435935dc')\"\n",
              "              title=\"Convert this dataframe to an interactive table.\"\n",
              "              style=\"display:none;\">\n",
              "        \n",
              "  <svg xmlns=\"http://www.w3.org/2000/svg\" height=\"24px\"viewBox=\"0 0 24 24\"\n",
              "       width=\"24px\">\n",
              "    <path d=\"M0 0h24v24H0V0z\" fill=\"none\"/>\n",
              "    <path d=\"M18.56 5.44l.94 2.06.94-2.06 2.06-.94-2.06-.94-.94-2.06-.94 2.06-2.06.94zm-11 1L8.5 8.5l.94-2.06 2.06-.94-2.06-.94L8.5 2.5l-.94 2.06-2.06.94zm10 10l.94 2.06.94-2.06 2.06-.94-2.06-.94-.94-2.06-.94 2.06-2.06.94z\"/><path d=\"M17.41 7.96l-1.37-1.37c-.4-.4-.92-.59-1.43-.59-.52 0-1.04.2-1.43.59L10.3 9.45l-7.72 7.72c-.78.78-.78 2.05 0 2.83L4 21.41c.39.39.9.59 1.41.59.51 0 1.02-.2 1.41-.59l7.78-7.78 2.81-2.81c.8-.78.8-2.07 0-2.86zM5.41 20L4 18.59l7.72-7.72 1.47 1.35L5.41 20z\"/>\n",
              "  </svg>\n",
              "      </button>\n",
              "      \n",
              "  <style>\n",
              "    .colab-df-container {\n",
              "      display:flex;\n",
              "      flex-wrap:wrap;\n",
              "      gap: 12px;\n",
              "    }\n",
              "\n",
              "    .colab-df-convert {\n",
              "      background-color: #E8F0FE;\n",
              "      border: none;\n",
              "      border-radius: 50%;\n",
              "      cursor: pointer;\n",
              "      display: none;\n",
              "      fill: #1967D2;\n",
              "      height: 32px;\n",
              "      padding: 0 0 0 0;\n",
              "      width: 32px;\n",
              "    }\n",
              "\n",
              "    .colab-df-convert:hover {\n",
              "      background-color: #E2EBFA;\n",
              "      box-shadow: 0px 1px 2px rgba(60, 64, 67, 0.3), 0px 1px 3px 1px rgba(60, 64, 67, 0.15);\n",
              "      fill: #174EA6;\n",
              "    }\n",
              "\n",
              "    [theme=dark] .colab-df-convert {\n",
              "      background-color: #3B4455;\n",
              "      fill: #D2E3FC;\n",
              "    }\n",
              "\n",
              "    [theme=dark] .colab-df-convert:hover {\n",
              "      background-color: #434B5C;\n",
              "      box-shadow: 0px 1px 3px 1px rgba(0, 0, 0, 0.15);\n",
              "      filter: drop-shadow(0px 1px 2px rgba(0, 0, 0, 0.3));\n",
              "      fill: #FFFFFF;\n",
              "    }\n",
              "  </style>\n",
              "\n",
              "      <script>\n",
              "        const buttonEl =\n",
              "          document.querySelector('#df-6f36ee88-2834-4427-b0ee-11d1435935dc button.colab-df-convert');\n",
              "        buttonEl.style.display =\n",
              "          google.colab.kernel.accessAllowed ? 'block' : 'none';\n",
              "\n",
              "        async function convertToInteractive(key) {\n",
              "          const element = document.querySelector('#df-6f36ee88-2834-4427-b0ee-11d1435935dc');\n",
              "          const dataTable =\n",
              "            await google.colab.kernel.invokeFunction('convertToInteractive',\n",
              "                                                     [key], {});\n",
              "          if (!dataTable) return;\n",
              "\n",
              "          const docLinkHtml = 'Like what you see? Visit the ' +\n",
              "            '<a target=\"_blank\" href=https://colab.research.google.com/notebooks/data_table.ipynb>data table notebook</a>'\n",
              "            + ' to learn more about interactive tables.';\n",
              "          element.innerHTML = '';\n",
              "          dataTable['output_type'] = 'display_data';\n",
              "          await google.colab.output.renderOutput(dataTable, element);\n",
              "          const docLink = document.createElement('div');\n",
              "          docLink.innerHTML = docLinkHtml;\n",
              "          element.appendChild(docLink);\n",
              "        }\n",
              "      </script>\n",
              "    </div>\n",
              "  </div>\n",
              "  "
            ]
          },
          "metadata": {}
        },
        {
          "output_type": "stream",
          "name": "stdout",
          "text": [
            "Error: Runtime no longer has a reference to this dataframe, please re-run this cell and try again.\n"
          ]
        }
      ]
    },
    {
      "cell_type": "code",
      "source": [
        "performances.plot(x='Learning Rate', y=['Train Accuracy', 'Test Accuracy'], kind=\"bar\")\n",
        "plt.ylabel('Accuracy')\n",
        "plt.title('Train and Test accuracies for different learning rates')\n",
        "plt.legend(loc='lower right')\n",
        "plt.show()"
      ],
      "metadata": {
        "colab": {
          "base_uri": "https://localhost:8080/",
          "height": 329
        },
        "id": "QuqtfAfwyeKP",
        "outputId": "95319e2e-dba1-4781-8abf-d9ed357839f0"
      },
      "execution_count": null,
      "outputs": [
        {
          "output_type": "display_data",
          "data": {
            "text/plain": [
              "<Figure size 432x288 with 1 Axes>"
            ],
            "image/png": "[encoded data removed]"
          },
          "metadata": {}
        }
      ]
    }
  ],
  "metadata": {
    "colab": {
      "provenance": []
    },
    "kernelspec": {
      "display_name": "Python 3",
      "name": "python3"
    },
    "language_info": {
      "name": "python"
    }
  },
  "nbformat": 4,
  "nbformat_minor": 0
}