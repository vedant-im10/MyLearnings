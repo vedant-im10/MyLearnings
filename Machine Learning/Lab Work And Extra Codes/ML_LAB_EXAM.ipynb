{
  "nbformat": 4,
  "nbformat_minor": 0,
  "metadata": {
    "colab": {
      "provenance": []
    },
    "kernelspec": {
      "name": "python3",
      "display_name": "Python 3"
    },
    "language_info": {
      "name": "python"
    }
  },
  "cells": [
    {
      "cell_type": "markdown",
      "source": [
        "Set –A\n",
        "\n",
        "1.Generate a dataset using the following statement:\n",
        "from sklearn.datasets import make_classification\n",
        "x,y=make_classification(n_samples=1000,n_features=4,n_informative=4,n_redundant=0,n_clusters_per_class=1,random_state=60)\n",
        "\n",
        "2.Print the total number of data points, number of features and no. of classes in your dataset. Also, print the number of data points in each class.\n",
        "\n",
        "3.Split your data into train (60%), cross-validation (20%) and test (20%) sets and print the sizes of these sets.\n",
        "\n",
        "4.Perform data pre-processing using column standardisation.\n",
        "\n",
        "5.Perform the modelling using K-Nearest NeighbourMethod(you can use sklearn’simplementation of K-NN).\n",
        "  \n",
        "  a)In  K-NN  implementation,  use  the  distance  measure  as  \"cosine  distance  metric\"  for computing the nearest neighbours). DO NOT USEthe default one i.e. 'euclidean'.\n",
        "  b)Validate your model for the given values of K: [1,3,5,7,9,11,13,15]and print the accuracies.Plot the graph: 'K vs. Accuracy'. Find the optimal Kand print its value.\n",
        "  c)Predict and print the class label for every data point in Test Set,and overallaccuracy on  the  test  dataset.  Remember  that  here  also  you  have  to  use  the  COSINE  distance metric."
      ],
      "metadata": {
        "id": "oDUCf-sXqbz3"
      }
    },
    {
      "cell_type": "markdown",
      "source": [
        "# Answer - 1\n",
        "Generate a dataset using the following statement:\n",
        "from sklearn.datasets import make_classification\n",
        "x,y=make_classification(n_samples=1000,n_features=4,n_informative=4,n_redundant=0,n_clusters_per_class=1,random_state=60)"
      ],
      "metadata": {
        "id": "0XU45wdWr0sA"
      }
    },
    {
      "cell_type": "code",
      "execution_count": null,
      "metadata": {
        "id": "iMkF8VdCqHz-"
      },
      "outputs": [],
      "source": [
        "from sklearn.datasets import make_classification\n",
        "x,y=make_classification(n_samples=1000,n_features=4,n_informative=4,n_redundant=0,n_clusters_per_class=1,random_state=60)"
      ]
    },
    {
      "cell_type": "code",
      "source": [
        "import numpy as np\n",
        "import pandas as pd"
      ],
      "metadata": {
        "id": "-_rkK8EIsiaD"
      },
      "execution_count": null,
      "outputs": []
    },
    {
      "cell_type": "markdown",
      "source": [
        "# Answer - 2\n",
        "Print the total number of data points, number of features and no. of classes in your dataset.Also, print the number of data points in each class."
      ],
      "metadata": {
        "id": "DeaZyCq8r79P"
      }
    },
    {
      "cell_type": "code",
      "source": [
        "x.shape"
      ],
      "metadata": {
        "colab": {
          "base_uri": "https://localhost:8080/"
        },
        "id": "A8VEfwtguuNg",
        "outputId": "6d9f6096-2983-4645-8fe3-14502cd6cfc8"
      },
      "execution_count": null,
      "outputs": [
        {
          "output_type": "execute_result",
          "data": {
            "text/plain": [
              "(1000, 4)"
            ]
          },
          "metadata": {},
          "execution_count": 258
        }
      ]
    },
    {
      "cell_type": "code",
      "source": [
        "print(f\"Total number of data points : {len(x)}\")"
      ],
      "metadata": {
        "colab": {
          "base_uri": "https://localhost:8080/"
        },
        "id": "jYOI3ynOrCNz",
        "outputId": "52a97e73-73a6-4c87-e460-45b47637eb2e"
      },
      "execution_count": null,
      "outputs": [
        {
          "output_type": "stream",
          "name": "stdout",
          "text": [
            "Total number of data points : 1000\n"
          ]
        }
      ]
    },
    {
      "cell_type": "code",
      "source": [
        "print(f\"Number of features : {len(x[0])}\")"
      ],
      "metadata": {
        "colab": {
          "base_uri": "https://localhost:8080/"
        },
        "id": "niJk2zgjreRZ",
        "outputId": "636ca5b9-4595-4ecd-a89e-f4f378c51a47"
      },
      "execution_count": null,
      "outputs": [
        {
          "output_type": "stream",
          "name": "stdout",
          "text": [
            "Number of features : 4\n"
          ]
        }
      ]
    },
    {
      "cell_type": "code",
      "source": [
        "temp = pd.DataFrame({'target': y})\n",
        "print(f\"Number of classes : {temp['target'].nunique()}\")"
      ],
      "metadata": {
        "colab": {
          "base_uri": "https://localhost:8080/"
        },
        "id": "aXuM8nJmsO6H",
        "outputId": "b4fecedc-a56b-4afa-cb79-3113bc0fc4e0"
      },
      "execution_count": null,
      "outputs": [
        {
          "output_type": "stream",
          "name": "stdout",
          "text": [
            "Number of classes : 2\n"
          ]
        }
      ]
    },
    {
      "cell_type": "code",
      "source": [
        "print(f\"Number of data points in each class : \\n{temp['target'].value_counts()}\")"
      ],
      "metadata": {
        "colab": {
          "base_uri": "https://localhost:8080/"
        },
        "id": "J0VAbU5avALP",
        "outputId": "ceed0616-73aa-4eb8-b17d-2ec5f39baeda"
      },
      "execution_count": null,
      "outputs": [
        {
          "output_type": "stream",
          "name": "stdout",
          "text": [
            "Number of data points in each class : \n",
            "0    501\n",
            "1    499\n",
            "Name: target, dtype: int64\n"
          ]
        }
      ]
    },
    {
      "cell_type": "markdown",
      "source": [
        "# Answer - 3\n",
        "Split your data into train (60%), cross-validation (20%) and test (20%) setsand print the sizes of these sets."
      ],
      "metadata": {
        "id": "CmR6SR1fs1Wg"
      }
    },
    {
      "cell_type": "code",
      "source": [
        "from sklearn.model_selection import train_test_split\n",
        "\n",
        "X_train, X_test, y_train, y_test = train_test_split(x,y,test_size=0.2)\n",
        "X_train, X_validate, y_train, y_validate = train_test_split(X_train,y_train,train_size=0.6)"
      ],
      "metadata": {
        "id": "B6wZyb8CsSjA"
      },
      "execution_count": null,
      "outputs": []
    },
    {
      "cell_type": "markdown",
      "source": [
        "# Answer - 4\n",
        "Perform data pre-processing using column standardisation."
      ],
      "metadata": {
        "id": "TGdVN25YtXWI"
      }
    },
    {
      "cell_type": "code",
      "source": [
        "from sklearn.preprocessing import StandardScaler\n",
        "from math import sqrt, exp\n",
        "\n",
        "scaler = StandardScaler()\n",
        "scaler.fit(X_train)\n",
        "X_train = scaler.transform(X_train)"
      ],
      "metadata": {
        "id": "p2LW2hO-tLF7"
      },
      "execution_count": null,
      "outputs": []
    },
    {
      "cell_type": "code",
      "source": [
        "mean = list(scaler.mean_)\n",
        "sd = [sqrt(i) for i in scaler.var_]\n",
        "for i in range(len(X_test)):\n",
        "  for j in range(len(X_test[0])):\n",
        "    X_test[i, j] = (X_test[i, j] - mean[j])/sd[j]\n",
        "\n",
        "for i in range(len(X_validate)):\n",
        "  for j in range(len(X_validate[0])):\n",
        "    X_validate[i, j] = (X_validate[i, j] - mean[j])/sd[j]"
      ],
      "metadata": {
        "id": "UVF9598nteke"
      },
      "execution_count": null,
      "outputs": []
    },
    {
      "cell_type": "markdown",
      "source": [
        "# Answer - 5\n",
        "Perform the modelling using K-Nearest Neighbour Method (you can use sklearn’simplementation of K-NN).\n",
        "  \n",
        "  a)In  K-NN  implementation,  use  the  distance  measure  as  \"cosine  distance  metric\"  for computing the nearest neighbours). DO NOT USEthe default one i.e. 'euclidean'.\n",
        "\n",
        "  b)Validate your model for the given values of K: [1,3,5,7,9,11,13,15]and print the accuracies. Plot the graph: 'K vs. Accuracy'. Find the optimal Kand print its value.\n",
        "\n",
        "  c)Predict and print the class label for every data point in Test Set,and overall accuracy on  the  test  dataset.  Remember  that  here  also  you  have  to  use  the  COSINE  distance metric."
      ],
      "metadata": {
        "id": "k-tTXU5MtqUC"
      }
    },
    {
      "cell_type": "code",
      "source": [
        "from sklearn.neighbors import KNeighborsClassifier\n",
        "from sklearn.metrics import accuracy_score\n",
        "\n",
        "knn = KNeighborsClassifier(metric = 'cosine')\n",
        "\n",
        "knn.fit(X_train,y_train)"
      ],
      "metadata": {
        "colab": {
          "base_uri": "https://localhost:8080/"
        },
        "id": "rRtafUClti7d",
        "outputId": "2ca3c516-9323-4d51-b4d8-86c2b71d5ba3"
      },
      "execution_count": null,
      "outputs": [
        {
          "output_type": "execute_result",
          "data": {
            "text/plain": [
              "KNeighborsClassifier(metric='cosine')"
            ]
          },
          "metadata": {},
          "execution_count": 266
        }
      ]
    },
    {
      "cell_type": "code",
      "source": [
        "accuracies = []\n",
        "\n",
        "ks = list(range(1, 16, 2))\n",
        "new_k = 5\n",
        "max_acc = 0\n",
        "\n",
        "for k in ks:\n",
        "    knn = KNeighborsClassifier(n_neighbors=k,metric = 'cosine')\n",
        "    knn.fit(X_train, y_train)\n",
        "\n",
        "    y_pred = knn.predict(X_validate)\n",
        "    accuracy = accuracy_score(y_pred, y_validate)\n",
        "    accuracies.append(accuracy)\n",
        "    if max_acc < accuracy:\n",
        "        max_acc = accuracy\n",
        "        new_k = k"
      ],
      "metadata": {
        "id": "JhcGpWmmufiV"
      },
      "execution_count": null,
      "outputs": []
    },
    {
      "cell_type": "code",
      "source": [
        "new_k"
      ],
      "metadata": {
        "colab": {
          "base_uri": "https://localhost:8080/"
        },
        "id": "LKKBsj_Dx77N",
        "outputId": "586dc3a6-bb27-4a3c-9ab0-3d45b020c920"
      },
      "execution_count": null,
      "outputs": [
        {
          "output_type": "execute_result",
          "data": {
            "text/plain": [
              "7"
            ]
          },
          "metadata": {},
          "execution_count": 268
        }
      ]
    },
    {
      "cell_type": "code",
      "source": [
        "accuracies"
      ],
      "metadata": {
        "colab": {
          "base_uri": "https://localhost:8080/"
        },
        "id": "w1A1cZHvx9qP",
        "outputId": "cc71873f-90c5-4820-acba-7b406d455bc0"
      },
      "execution_count": null,
      "outputs": [
        {
          "output_type": "execute_result",
          "data": {
            "text/plain": [
              "[0.93125, 0.94375, 0.95625, 0.959375, 0.946875, 0.95625, 0.94375, 0.9375]"
            ]
          },
          "metadata": {},
          "execution_count": 269
        }
      ]
    },
    {
      "cell_type": "code",
      "source": [
        "import seaborn as sns\n",
        "import matplotlib.pyplot as plt\n",
        "\n",
        "plt.plot(ks,accuracies)\n",
        "plt.title(\"K v/s accuracy\")\n",
        "plt.xlabel(\"K\")\n",
        "plt.ylabel(\"accuracies\")"
      ],
      "metadata": {
        "colab": {
          "base_uri": "https://localhost:8080/",
          "height": 312
        },
        "id": "9znslTUHvamF",
        "outputId": "fe43cf9a-f44c-4671-f51b-9c8c4832270f"
      },
      "execution_count": null,
      "outputs": [
        {
          "output_type": "execute_result",
          "data": {
            "text/plain": [
              "Text(0, 0.5, 'accuracies')"
            ]
          },
          "metadata": {},
          "execution_count": 279
        },
        {
          "output_type": "display_data",
          "data": {
            "text/plain": [
              "<Figure size 432x288 with 1 Axes>"
            ],
            "image/png": "[encoded data removed]"
          },
          "metadata": {
            "needs_background": "light"
          }
        }
      ]
    },
    {
      "cell_type": "code",
      "source": [
        "temp_df = pd.DataFrame({'y_true': y_test})\n",
        "tuned_knn = KNeighborsClassifier(n_neighbors = new_k, metric = 'cosine')\n",
        "tuned_knn.fit(X_train, y_train)\n",
        "y_pred = tuned_knn.predict(X_test)\n",
        "temp_df['y_pred'] = y_pred\n",
        "print(\"accuracy :\",accuracy_score(y_test, y_pred))"
      ],
      "metadata": {
        "colab": {
          "base_uri": "https://localhost:8080/"
        },
        "id": "yuhtaKWEv7Ej",
        "outputId": "1dd6e071-5b69-4b76-ab11-e288772efeb9"
      },
      "execution_count": null,
      "outputs": [
        {
          "output_type": "stream",
          "name": "stdout",
          "text": [
            "accuracy : 0.98\n"
          ]
        }
      ]
    },
    {
      "cell_type": "code",
      "source": [
        "temp_df"
      ],
      "metadata": {
        "colab": {
          "base_uri": "https://localhost:8080/",
          "height": 424
        },
        "id": "viMfnAatwRV5",
        "outputId": "2c6f9eb5-c67e-4887-af7b-6e5bf46f60ba"
      },
      "execution_count": null,
      "outputs": [
        {
          "output_type": "execute_result",
          "data": {
            "text/plain": [
              "     y_true  y_pred\n",
              "0         0       0\n",
              "1         1       1\n",
              "2         0       0\n",
              "3         1       1\n",
              "4         1       1\n",
              "..      ...     ...\n",
              "195       0       0\n",
              "196       1       1\n",
              "197       1       1\n",
              "198       0       0\n",
              "199       1       1\n",
              "\n",
              "[200 rows x 2 columns]"
            ],
            "text/html": [
              "\n",
              "  <div id=\"df-1afe616e-0e1b-4642-88c8-465ccede11c9\">\n",
              "    <div class=\"colab-df-container\">\n",
              "      <div>\n",
              "<style scoped>\n",
              "    .dataframe tbody tr th:only-of-type {\n",
              "        vertical-align: middle;\n",
              "    }\n",
              "\n",
              "    .dataframe tbody tr th {\n",
              "        vertical-align: top;\n",
              "    }\n",
              "\n",
              "    .dataframe thead th {\n",
              "        text-align: right;\n",
              "    }\n",
              "</style>\n",
              "<table border=\"1\" class=\"dataframe\">\n",
              "  <thead>\n",
              "    <tr style=\"text-align: right;\">\n",
              "      <th></th>\n",
              "      <th>y_true</th>\n",
              "      <th>y_pred</th>\n",
              "    </tr>\n",
              "  </thead>\n",
              "  <tbody>\n",
              "    <tr>\n",
              "      <th>0</th>\n",
              "      <td>0</td>\n",
              "      <td>0</td>\n",
              "    </tr>\n",
              "    <tr>\n",
              "      <th>1</th>\n",
              "      <td>1</td>\n",
              "      <td>1</td>\n",
              "    </tr>\n",
              "    <tr>\n",
              "      <th>2</th>\n",
              "      <td>0</td>\n",
              "      <td>0</td>\n",
              "    </tr>\n",
              "    <tr>\n",
              "      <th>3</th>\n",
              "      <td>1</td>\n",
              "      <td>1</td>\n",
              "    </tr>\n",
              "    <tr>\n",
              "      <th>4</th>\n",
              "      <td>1</td>\n",
              "      <td>1</td>\n",
              "    </tr>\n",
              "    <tr>\n",
              "      <th>...</th>\n",
              "      <td>...</td>\n",
              "      <td>...</td>\n",
              "    </tr>\n",
              "    <tr>\n",
              "      <th>195</th>\n",
              "      <td>0</td>\n",
              "      <td>0</td>\n",
              "    </tr>\n",
              "    <tr>\n",
              "      <th>196</th>\n",
              "      <td>1</td>\n",
              "      <td>1</td>\n",
              "    </tr>\n",
              "    <tr>\n",
              "      <th>197</th>\n",
              "      <td>1</td>\n",
              "      <td>1</td>\n",
              "    </tr>\n",
              "    <tr>\n",
              "      <th>198</th>\n",
              "      <td>0</td>\n",
              "      <td>0</td>\n",
              "    </tr>\n",
              "    <tr>\n",
              "      <th>199</th>\n",
              "      <td>1</td>\n",
              "      <td>1</td>\n",
              "    </tr>\n",
              "  </tbody>\n",
              "</table>\n",
              "<p>200 rows × 2 columns</p>\n",
              "</div>\n",
              "      <button class=\"colab-df-convert\" onclick=\"convertToInteractive('df-1afe616e-0e1b-4642-88c8-465ccede11c9')\"\n",
              "              title=\"Convert this dataframe to an interactive table.\"\n",
              "              style=\"display:none;\">\n",
              "        \n",
              "  <svg xmlns=\"http://www.w3.org/2000/svg\" height=\"24px\"viewBox=\"0 0 24 24\"\n",
              "       width=\"24px\">\n",
              "    <path d=\"M0 0h24v24H0V0z\" fill=\"none\"/>\n",
              "    <path d=\"M18.56 5.44l.94 2.06.94-2.06 2.06-.94-2.06-.94-.94-2.06-.94 2.06-2.06.94zm-11 1L8.5 8.5l.94-2.06 2.06-.94-2.06-.94L8.5 2.5l-.94 2.06-2.06.94zm10 10l.94 2.06.94-2.06 2.06-.94-2.06-.94-.94-2.06-.94 2.06-2.06.94z\"/><path d=\"M17.41 7.96l-1.37-1.37c-.4-.4-.92-.59-1.43-.59-.52 0-1.04.2-1.43.59L10.3 9.45l-7.72 7.72c-.78.78-.78 2.05 0 2.83L4 21.41c.39.39.9.59 1.41.59.51 0 1.02-.2 1.41-.59l7.78-7.78 2.81-2.81c.8-.78.8-2.07 0-2.86zM5.41 20L4 18.59l7.72-7.72 1.47 1.35L5.41 20z\"/>\n",
              "  </svg>\n",
              "      </button>\n",
              "      \n",
              "  <style>\n",
              "    .colab-df-container {\n",
              "      display:flex;\n",
              "      flex-wrap:wrap;\n",
              "      gap: 12px;\n",
              "    }\n",
              "\n",
              "    .colab-df-convert {\n",
              "      background-color: #E8F0FE;\n",
              "      border: none;\n",
              "      border-radius: 50%;\n",
              "      cursor: pointer;\n",
              "      display: none;\n",
              "      fill: #1967D2;\n",
              "      height: 32px;\n",
              "      padding: 0 0 0 0;\n",
              "      width: 32px;\n",
              "    }\n",
              "\n",
              "    .colab-df-convert:hover {\n",
              "      background-color: #E2EBFA;\n",
              "      box-shadow: 0px 1px 2px rgba(60, 64, 67, 0.3), 0px 1px 3px 1px rgba(60, 64, 67, 0.15);\n",
              "      fill: #174EA6;\n",
              "    }\n",
              "\n",
              "    [theme=dark] .colab-df-convert {\n",
              "      background-color: #3B4455;\n",
              "      fill: #D2E3FC;\n",
              "    }\n",
              "\n",
              "    [theme=dark] .colab-df-convert:hover {\n",
              "      background-color: #434B5C;\n",
              "      box-shadow: 0px 1px 3px 1px rgba(0, 0, 0, 0.15);\n",
              "      filter: drop-shadow(0px 1px 2px rgba(0, 0, 0, 0.3));\n",
              "      fill: #FFFFFF;\n",
              "    }\n",
              "  </style>\n",
              "\n",
              "      <script>\n",
              "        const buttonEl =\n",
              "          document.querySelector('#df-1afe616e-0e1b-4642-88c8-465ccede11c9 button.colab-df-convert');\n",
              "        buttonEl.style.display =\n",
              "          google.colab.kernel.accessAllowed ? 'block' : 'none';\n",
              "\n",
              "        async function convertToInteractive(key) {\n",
              "          const element = document.querySelector('#df-1afe616e-0e1b-4642-88c8-465ccede11c9');\n",
              "          const dataTable =\n",
              "            await google.colab.kernel.invokeFunction('convertToInteractive',\n",
              "                                                     [key], {});\n",
              "          if (!dataTable) return;\n",
              "\n",
              "          const docLinkHtml = 'Like what you see? Visit the ' +\n",
              "            '<a target=\"_blank\" href=https://colab.research.google.com/notebooks/data_table.ipynb>data table notebook</a>'\n",
              "            + ' to learn more about interactive tables.';\n",
              "          element.innerHTML = '';\n",
              "          dataTable['output_type'] = 'display_data';\n",
              "          await google.colab.output.renderOutput(dataTable, element);\n",
              "          const docLink = document.createElement('div');\n",
              "          docLink.innerHTML = docLinkHtml;\n",
              "          element.appendChild(docLink);\n",
              "        }\n",
              "      </script>\n",
              "    </div>\n",
              "  </div>\n",
              "  "
            ]
          },
          "metadata": {},
          "execution_count": 272
        }
      ]
    },
    {
      "cell_type": "code",
      "source": [
        "print(\"accuracy :\",accuracy_score(y_test, y_pred))"
      ],
      "metadata": {
        "colab": {
          "base_uri": "https://localhost:8080/"
        },
        "id": "zIs5JcNBwsOc",
        "outputId": "99df3845-d858-4a98-81cd-2b68282ac339"
      },
      "execution_count": null,
      "outputs": [
        {
          "output_type": "stream",
          "name": "stdout",
          "text": [
            "accuracy : 0.98\n"
          ]
        }
      ]
    },
    {
      "cell_type": "code",
      "source": [],
      "metadata": {
        "id": "2Uz3vwBmzCiJ"
      },
      "execution_count": null,
      "outputs": []
    }
  ]
}